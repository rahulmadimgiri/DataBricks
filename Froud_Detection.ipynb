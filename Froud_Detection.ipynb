{
 "cells": [
  {
   "cell_type": "markdown",
   "metadata": {
    "application/vnd.databricks.v1+cell": {
     "cellMetadata": {},
     "inputWidgets": {},
     "nuid": "a49fd259-0a4a-43bc-83bd-adc40638cd1f",
     "showTitle": false,
     "tableResultSettingsMap": {},
     "title": ""
    }
   },
   "source": [
    "## Froud Detection"
   ]
  },
  {
   "cell_type": "code",
   "execution_count": 0,
   "metadata": {
    "application/vnd.databricks.v1+cell": {
     "cellMetadata": {
      "byteLimit": 2048000,
      "rowLimit": 10000
     },
     "inputWidgets": {},
     "nuid": "15c4e257-0945-44d9-8ead-84518c63b695",
     "showTitle": true,
     "tableResultSettingsMap": {},
     "title": "Spark configuration"
    }
   },
   "outputs": [],
   "source": [
    "configurations = spark.conf.getAll\n",
    "display(configurations)\n",
    "spark.version"
   ]
  },
  {
   "cell_type": "markdown",
   "metadata": {
    "application/vnd.databricks.v1+cell": {
     "cellMetadata": {},
     "inputWidgets": {},
     "nuid": "a7dab5c3-1c21-47e3-b5d1-fe589862e115",
     "showTitle": false,
     "tableResultSettingsMap": {},
     "title": ""
    }
   },
   "source": [
    "###Source Kaggle  - link - [https://www.kaggle.com/datasets/mlg-ulb/creditcardfraud/data](https://www.kaggle.com/datasets/mlg-ulb/creditcardfraud/data)\n",
    "- ###Credit Card Fraud Detection"
   ]
  },
  {
   "cell_type": "code",
   "execution_count": 0,
   "metadata": {
    "application/vnd.databricks.v1+cell": {
     "cellMetadata": {
      "byteLimit": 2048000,
      "rowLimit": 10000
     },
     "inputWidgets": {},
     "nuid": "d2667727-8f3e-4a5e-a77c-04f74d39600e",
     "showTitle": true,
     "tableResultSettingsMap": {},
     "title": "Import / Read the file from Volume"
    }
   },
   "outputs": [],
   "source": [
    "df = spark.read.csv('/Volumes/data_gov/data_gov_test/csv_file/creditcard.csv', header=True, inferSchema=True)\n",
    "display"
   ]
  },
  {
   "cell_type": "code",
   "execution_count": 0,
   "metadata": {
    "application/vnd.databricks.v1+cell": {
     "cellMetadata": {
      "byteLimit": 2048000,
      "implicitDf": true,
      "rowLimit": 10000
     },
     "inputWidgets": {},
     "nuid": "47ec6678-ed37-4d64-a188-c49891908a91",
     "showTitle": false,
     "tableResultSettingsMap": {},
     "title": ""
    }
   },
   "outputs": [],
   "source": [
    "%sql\n",
    "USE CATALOG data_gov;\n",
    "USE SCHEMA data_gov_test;\n"
   ]
  },
  {
   "cell_type": "code",
   "execution_count": 0,
   "metadata": {
    "application/vnd.databricks.v1+cell": {
     "cellMetadata": {
      "byteLimit": 2048000,
      "rowLimit": 10000
     },
     "inputWidgets": {},
     "nuid": "4f28d5f8-94e5-401f-ba9f-c20acccb08fe",
     "showTitle": true,
     "tableResultSettingsMap": {},
     "title": "Creating table on catalog using df"
    }
   },
   "outputs": [],
   "source": [
    "df.write.saveAsTable('creditcard_froud', mode='overwrite')"
   ]
  },
  {
   "cell_type": "code",
   "execution_count": 0,
   "metadata": {
    "application/vnd.databricks.v1+cell": {
     "cellMetadata": {
      "byteLimit": 2048000,
      "rowLimit": 10000
     },
     "inputWidgets": {},
     "nuid": "672c5b7f-17c2-43a0-a26f-4a74f8d8e3a9",
     "showTitle": true,
     "tableResultSettingsMap": {},
     "title": "Froud Count"
    }
   },
   "outputs": [],
   "source": [
    "#1 Present the Froud \n",
    "total_count = df.count()\n",
    "froud_count = df.filter(df['Class'] == 1).count()\n",
    "print(f'Froud count: {froud_count}, total count: {total_count}, froud percentage: {froud_count/total_count}')"
   ]
  },
  {
   "cell_type": "code",
   "execution_count": 0,
   "metadata": {
    "application/vnd.databricks.v1+cell": {
     "cellMetadata": {
      "byteLimit": 2048000,
      "implicitDf": true,
      "rowLimit": 10000
     },
     "inputWidgets": {},
     "nuid": "66ddd4e7-1991-4782-910a-7322a5dfe63d",
     "showTitle": true,
     "tableResultSettingsMap": {},
     "title": "Find Froud"
    }
   },
   "outputs": [],
   "source": [
    "%sql\n",
    "select \n",
    "  case when class = 1 then 'Froud' else 'Non Froud' end as class,\n",
    "  count(class) as count, \n",
    "  sum(count(class)) over () as Total_count,\n",
    "  round(100.0 * count(class) / sum(count(class)) over (), 2) as percent\n",
    "from data_gov.data_gov_test.creditcard_froud\n",
    "group by class"
   ]
  },
  {
   "cell_type": "code",
   "execution_count": 0,
   "metadata": {
    "application/vnd.databricks.v1+cell": {
     "cellMetadata": {
      "byteLimit": 2048000,
      "implicitDf": true,
      "rowLimit": 10000
     },
     "inputWidgets": {},
     "nuid": "8cf286bd-0850-46aa-9995-ff04bf4af8f7",
     "showTitle": true,
     "tableResultSettingsMap": {},
     "title": "Pivoting"
    }
   },
   "outputs": [],
   "source": [
    "%sql\n",
    "select\n",
    "  sum(case when class = 1 then 1 else 0 end) as Fraud_count,          -- counts rows where class=1\n",
    "  sum(case when class = 0 then 1 else 0 end) as Non_Fraud_count,      -- counts rows where class=0\n",
    "  count(class) as Total_count,                                       -- total rows (all classes)\n",
    "  round(100.0 * sum(case when class = 1 then 1 else 0 end) / count(class), 2) as Percent_Fraud, -- fraud %\n",
    "  round(100.0 * sum(case when class = 0 then 1 else 0 end) / count(class), 2) as Percent_Non_Fraud -- non fraud %\n",
    "from data_gov.data_gov_test.creditcard_froud\n"
   ]
  },
  {
   "cell_type": "code",
   "execution_count": 0,
   "metadata": {
    "application/vnd.databricks.v1+cell": {
     "cellMetadata": {
      "byteLimit": 2048000,
      "rowLimit": 10000
     },
     "inputWidgets": {},
     "nuid": "4a228c52-8e16-40ac-bab1-a902161235c0",
     "showTitle": false,
     "tableResultSettingsMap": {},
     "title": ""
    }
   },
   "outputs": [],
   "source": [
    "df.toPandas().hist(bins=30, figsize=(30, 30))"
   ]
  },
  {
   "cell_type": "code",
   "execution_count": 0,
   "metadata": {
    "application/vnd.databricks.v1+cell": {
     "cellMetadata": {
      "byteLimit": 2048000,
      "rowLimit": 10000
     },
     "inputWidgets": {},
     "nuid": "626ec722-b198-4f03-a39c-357c5417e6d1",
     "showTitle": false,
     "tableResultSettingsMap": {},
     "title": ""
    }
   },
   "outputs": [],
   "source": [
    "summary_amount=df.select('Amount').describe()\n",
    "display(summary_amount)"
   ]
  },
  {
   "cell_type": "code",
   "execution_count": 0,
   "metadata": {
    "application/vnd.databricks.v1+cell": {
     "cellMetadata": {},
     "inputWidgets": {},
     "nuid": "12f080dc-1950-4ce0-9cf6-2438c5cd4810",
     "showTitle": false,
     "tableResultSettingsMap": {},
     "title": ""
    }
   },
   "outputs": [],
   "source": []
  }
 ],
 "metadata": {
  "application/vnd.databricks.v1+notebook": {
   "computePreferences": null,
   "dashboards": [],
   "environmentMetadata": {
    "base_environment": "",
    "environment_version": "2"
   },
   "inputWidgetPreferences": null,
   "language": "python",
   "notebookMetadata": {
    "mostRecentlyExecutedCommandWithImplicitDF": {
     "commandId": 6436391804217496,
     "dataframes": [
      "_sqldf"
     ]
    },
    "pythonIndentUnit": 4
   },
   "notebookName": "Froud_Detection",
   "widgets": {}
  },
  "language_info": {
   "name": "python"
  }
 },
 "nbformat": 4,
 "nbformat_minor": 0
}
