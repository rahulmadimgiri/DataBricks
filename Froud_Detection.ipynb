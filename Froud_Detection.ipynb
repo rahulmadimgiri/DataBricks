{
 "cells": [
  {
   "cell_type": "markdown",
   "metadata": {
    "application/vnd.databricks.v1+cell": {
     "cellMetadata": {},
     "inputWidgets": {},
     "nuid": "a49fd259-0a4a-43bc-83bd-adc40638cd1f",
     "showTitle": false,
     "tableResultSettingsMap": {},
     "title": ""
    }
   },
   "source": [
    "## Froud Detection"
   ]
  },
  {
   "cell_type": "code",
   "execution_count": 0,
   "metadata": {
    "application/vnd.databricks.v1+cell": {
     "cellMetadata": {
      "byteLimit": 2048000,
      "rowLimit": 10000
     },
     "inputWidgets": {},
     "nuid": "15c4e257-0945-44d9-8ead-84518c63b695",
     "showTitle": true,
     "tableResultSettingsMap": {},
     "title": "Spark configuration"
    }
   },
   "outputs": [],
   "source": [
    "configurations = spark.conf.getAll\n",
    "display(configurations)\n",
    "spark.version"
   ]
  },
  {
   "cell_type": "code",
   "execution_count": 0,
   "metadata": {
    "application/vnd.databricks.v1+cell": {
     "cellMetadata": {
      "byteLimit": 2048000,
      "rowLimit": 10000
     },
     "inputWidgets": {},
     "nuid": "d2667727-8f3e-4a5e-a77c-04f74d39600e",
     "showTitle": true,
     "tableResultSettingsMap": {},
     "title": "Import / Read the file from Volume"
    }
   },
   "outputs": [],
   "source": [
    "df = spark.read.csv('/Volumes/data_gov/data_gov_test/csv_file/creditcard.csv', header=True, inferSchema=True)\n",
    "display(df)"
   ]
  },
  {
   "cell_type": "code",
   "execution_count": 0,
   "metadata": {
    "application/vnd.databricks.v1+cell": {
     "cellMetadata": {
      "byteLimit": 2048000,
      "rowLimit": 10000
     },
     "inputWidgets": {},
     "nuid": "672c5b7f-17c2-43a0-a26f-4a74f8d8e3a9",
     "showTitle": true,
     "tableResultSettingsMap": {},
     "title": "Froud Count"
    }
   },
   "outputs": [],
   "source": [
    "#1 Present the Froud \n",
    "df.groupBy('Class').count().display()\n",
    "df.count()"
   ]
  },
  {
   "cell_type": "code",
   "execution_count": 0,
   "metadata": {
    "application/vnd.databricks.v1+cell": {
     "cellMetadata": {},
     "inputWidgets": {},
     "nuid": "e24caae4-22f4-4514-b2b0-6df5fe268d95",
     "showTitle": false,
     "tableResultSettingsMap": {},
     "title": ""
    }
   },
   "outputs": [],
   "source": []
  }
 ],
 "metadata": {
  "application/vnd.databricks.v1+notebook": {
   "computePreferences": null,
   "dashboards": [],
   "environmentMetadata": {
    "base_environment": "",
    "environment_version": "2"
   },
   "inputWidgetPreferences": null,
   "language": "python",
   "notebookMetadata": {
    "pythonIndentUnit": 4
   },
   "notebookName": "Froud_Detection",
   "widgets": {}
  },
  "language_info": {
   "name": "python"
  }
 },
 "nbformat": 4,
 "nbformat_minor": 0
}
