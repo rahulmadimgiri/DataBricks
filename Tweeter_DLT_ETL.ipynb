{
 "cells": [
  {
   "cell_type": "markdown",
   "metadata": {
    "application/vnd.databricks.v1+cell": {
     "cellMetadata": {},
     "inputWidgets": {},
     "nuid": "3cfd7cf1-5ee3-4c80-a0dd-c98bf47144d7",
     "showTitle": false,
     "tableResultSettingsMap": {},
     "title": ""
    }
   },
   "source": [
    "## Real-Time Twitter Data Ingestion Using Delta Live Tables (DLT) Streaming Pipeline\n",
    "\n",
    "###Flow Diagram Of Project\n",
    "\n",
    "![](/Volumes/data_gov/data_gov_test/image/tweitter_fow.jpg)"
   ]
  },
  {
   "cell_type": "markdown",
   "metadata": {
    "application/vnd.databricks.v1+cell": {
     "cellMetadata": {},
     "inputWidgets": {},
     "nuid": "7070eccb-a370-4291-b82a-26604ce402ec",
     "showTitle": false,
     "tableResultSettingsMap": {},
     "title": ""
    }
   },
   "source": [
    "### Integrate with the Twitter API to retrieve data and ingest it into DBFS (Databricks File System)"
   ]
  },
  {
   "cell_type": "code",
   "execution_count": 0,
   "metadata": {
    "application/vnd.databricks.v1+cell": {
     "cellMetadata": {
      "byteLimit": 2048000,
      "rowLimit": 10000
     },
     "inputWidgets": {},
     "nuid": "4070ada7-0cbc-47ed-a45d-a1cbc28776c1",
     "showTitle": true,
     "tableResultSettingsMap": {},
     "title": "install the lib tweepy"
    }
   },
   "outputs": [],
   "source": [
    "pip install tweepy"
   ]
  },
  {
   "cell_type": "code",
   "execution_count": 0,
   "metadata": {
    "application/vnd.databricks.v1+cell": {
     "cellMetadata": {
      "byteLimit": 2048000,
      "rowLimit": 10000
     },
     "inputWidgets": {},
     "nuid": "4deb8be5-47e4-4b4a-8633-406fccc0ec1b",
     "showTitle": false,
     "tableResultSettingsMap": {},
     "title": ""
    }
   },
   "outputs": [],
   "source": [
    "pip install requests\n"
   ]
  },
  {
   "cell_type": "markdown",
   "metadata": {
    "application/vnd.databricks.v1+cell": {
     "cellMetadata": {},
     "inputWidgets": {},
     "nuid": "bc787db7-d831-4351-9b85-2f55b5961710",
     "showTitle": false,
     "tableResultSettingsMap": {},
     "title": ""
    }
   },
   "source": [
    "### Extracting the Twwiter Time line data from Own Acccount"
   ]
  },
  {
   "cell_type": "code",
   "execution_count": 0,
   "metadata": {
    "application/vnd.databricks.v1+cell": {
     "cellMetadata": {
      "byteLimit": 2048000,
      "rowLimit": 10000
     },
     "inputWidgets": {},
     "nuid": "da762e6d-339e-4bd5-92b6-673bb3df3b4b",
     "showTitle": false,
     "tableResultSettingsMap": {},
     "title": ""
    }
   },
   "outputs": [],
   "source": [
    "import requests\n",
    "import json\n",
    "import os\n",
    "import time\n",
    "\n",
    "# === CONFIGURATION ===\n",
    "BEARER_TOKEN = \"AAAAAAAAAAAAAAAAAAAAAOnN2QEAAAAAiLGMcTeEc2nrfNrx1Zx17%2BUbUJg%3DBSLkOksts3V4MWPYtQqSs5a600S5tatc3LVxXE6ugcr2giwTHj\"\n",
    "USERNAME = 'madimgiri'      \n",
    "USER_ID = None  \n",
    "DBFS_PATH = '/Volumes/data_gov/data_gov_test/twitter/my_tweets.json'\n",
    "\n",
    "# === Twitter API Headers ===\n",
    "headers = {\n",
    "    'Authorization': f'Bearer {BEARER_TOKEN}',\n",
    "    'User-Agent': 'v2UserTimelinePython'\n",
    "}\n",
    "\n",
    "# === Safe GET with Rate Limit Retry ===\n",
    "def safe_get(url, headers, params=None, max_retries=3, wait_seconds=60):\n",
    "    for attempt in range(max_retries):\n",
    "        response = requests.get(url, headers=headers, params=params)\n",
    "        if response.status_code == 429:\n",
    "            print(f\"⚠️ Rate limit hit. Waiting {wait_seconds}s before retrying...\")\n",
    "            time.sleep(wait_seconds)\n",
    "        else:\n",
    "            return response\n",
    "    raise Exception(f\"❌ Failed after {max_retries} retries: {response.status_code} {response.text}\")\n",
    "\n",
    "# === Get user ID (if not provided manually) ===\n",
    "def get_user_id(username):\n",
    "    url = f'https://api.twitter.com/2/users/by/username/{username}'\n",
    "    response = safe_get(url, headers)\n",
    "    if response.status_code != 200:\n",
    "        raise Exception(f\"Failed to get user ID: {response.status_code} {response.text}\")\n",
    "    return response.json()['data']['id']\n",
    "\n",
    "# === Get recent tweets (Free tier: only up to 10) ===\n",
    "def get_recent_tweets(user_id):\n",
    "    url = f'https://api.twitter.com/2/users/{user_id}/tweets'\n",
    "    params = {\n",
    "        'max_results': 10,  # Free plan allows max 10 tweets\n",
    "        'tweet.fields': 'created_at,id,text'\n",
    "    }\n",
    "    response = safe_get(url, headers, params)\n",
    "    if response.status_code != 200:\n",
    "        raise Exception(f\"Error fetching tweets: {response.status_code} {response.text}\")\n",
    "    return response.json().get('data', [])\n",
    "\n",
    "# === Save to DBFS (or local path in Databricks) ===\n",
    "def save_to_dbfs(tweets, file_path=DBFS_PATH):\n",
    "    os.makedirs(os.path.dirname(file_path), exist_ok=True)\n",
    "    with open(file_path, 'w', encoding='utf-8') as f:\n",
    "        json.dump(tweets, f, ensure_ascii=False, indent=2)\n",
    "\n",
    "# === Main Script ===\n",
    "if __name__ == '__main__':\n",
    "    try:\n",
    "        user_id = USER_ID or get_user_id(USERNAME)\n",
    "        print(f\"✅ Twitter User ID: {user_id}\")\n",
    "        tweets = get_recent_tweets(user_id)\n",
    "        save_to_dbfs(tweets)\n",
    "        print(f\"✅ Saved {len(tweets)} tweet(s) to {DBFS_PATH}\")\n",
    "    except Exception as e:\n",
    "        print(f\"❌ Error: {e}\")\n"
   ]
  },
  {
   "cell_type": "code",
   "execution_count": 0,
   "metadata": {
    "application/vnd.databricks.v1+cell": {
     "cellMetadata": {
      "byteLimit": 2048000,
      "rowLimit": 10000
     },
     "inputWidgets": {},
     "nuid": "64343420-6c1c-482d-afe2-104910764236",
     "showTitle": false,
     "tableResultSettingsMap": {},
     "title": ""
    }
   },
   "outputs": [],
   "source": [
    "import requests\n",
    "\n",
    "# Replace with your actual Bearer Token and Twitter username (no @)\n",
    "BEARER_TOKEN =\"AAAAAAAAAAAAAAAAAAAAAOnN2QEAAAAAiLGMcTeEc2nrfNrx1Zx17%2BUbUJg%3DBSLkOksts3V4MWPYtQqSs5a600S5tatc3LVxXE6ugcr2giwTHj\"\n",
    "USERNAME = 'madimgiri'\n",
    "\n",
    "url = f'https://api.twitter.com/2/users/by/username/{USERNAME}'\n",
    "headers = {\n",
    "    'Authorization': f'Bearer {BEARER_TOKEN}',\n",
    "    'User-Agent': 'GetUserID'\n",
    "}\n",
    "\n",
    "response = requests.get(url, headers=headers)\n",
    "\n",
    "if response.status_code == 200:\n",
    "    user_data = response.json()\n",
    "    user_id = user_data['data']['id']\n",
    "    print(f\"✅ Your Twitter User ID is: {user_id}\")\n",
    "else:\n",
    "    print(f\"❌ Failed to get user ID: {response.status_code} {response.text}\")\n"
   ]
  },
  {
   "cell_type": "code",
   "execution_count": 0,
   "metadata": {
    "application/vnd.databricks.v1+cell": {
     "cellMetadata": {},
     "inputWidgets": {},
     "nuid": "c7f518f2-6675-45d3-868e-1f57943744e1",
     "showTitle": false,
     "tableResultSettingsMap": {},
     "title": ""
    }
   },
   "outputs": [],
   "source": []
  }
 ],
 "metadata": {
  "application/vnd.databricks.v1+notebook": {
   "computePreferences": null,
   "dashboards": [],
   "environmentMetadata": {
    "base_environment": "",
    "environment_version": "2"
   },
   "inputWidgetPreferences": null,
   "language": "python",
   "notebookMetadata": {
    "mostRecentlyExecutedCommandWithImplicitDF": {
     "commandId": 4528630484871206,
     "dataframes": [
      "_sqldf"
     ]
    },
    "pythonIndentUnit": 4
   },
   "notebookName": "Tweeter_DLT_ETL",
   "widgets": {}
  },
  "language_info": {
   "name": "python"
  }
 },
 "nbformat": 4,
 "nbformat_minor": 0
}
