{
 "cells": [
  {
   "cell_type": "markdown",
   "metadata": {
    "application/vnd.databricks.v1+cell": {
     "cellMetadata": {},
     "inputWidgets": {},
     "nuid": "3cfd7cf1-5ee3-4c80-a0dd-c98bf47144d7",
     "showTitle": false,
     "tableResultSettingsMap": {},
     "title": ""
    }
   },
   "source": [
    "## Real-Time Twitter Data Ingestion Using Delta Live Tables (DLT) Streaming Pipeline\n",
    "\n",
    "###Flow Diagram Of Project\n",
    "\n",
    "![](/Volumes/data_gov/data_gov_test/image/tweitter_fow.jpg)"
   ]
  },
  {
   "cell_type": "markdown",
   "metadata": {
    "application/vnd.databricks.v1+cell": {
     "cellMetadata": {},
     "inputWidgets": {},
     "nuid": "7070eccb-a370-4291-b82a-26604ce402ec",
     "showTitle": false,
     "tableResultSettingsMap": {},
     "title": ""
    }
   },
   "source": [
    "### Integrate with the Twitter API to retrieve data and ingest it into DBFS (Databricks File System)"
   ]
  },
  {
   "cell_type": "code",
   "execution_count": 0,
   "metadata": {
    "application/vnd.databricks.v1+cell": {
     "cellMetadata": {
      "byteLimit": 2048000,
      "rowLimit": 10000
     },
     "inputWidgets": {},
     "nuid": "4070ada7-0cbc-47ed-a45d-a1cbc28776c1",
     "showTitle": true,
     "tableResultSettingsMap": {},
     "title": "install the lib tweepy"
    }
   },
   "outputs": [],
   "source": [
    "pip install tweepy"
   ]
  },
  {
   "cell_type": "code",
   "execution_count": 0,
   "metadata": {
    "application/vnd.databricks.v1+cell": {
     "cellMetadata": {
      "byteLimit": 2048000,
      "rowLimit": 10000
     },
     "inputWidgets": {},
     "nuid": "dd0d4f5f-dab2-4838-b638-4142063dc337",
     "showTitle": false,
     "tableResultSettingsMap": {},
     "title": ""
    }
   },
   "outputs": [],
   "source": [
    "import tweepy\n",
    "import json\n",
    "\n",
    "API_KEY = \"BRGl5yFqaeR8U9AX8QJVZUXwP\"\n",
    "API_SECRET_KEY = \"vf3pmNTOrdaKKICdhcvn0JCdT7yzt77Gk0gMjlhm9wYQo24pQK\"\n",
    "ACCESS_TOKEN = \"746272323163070464-2alE70P4LuEIZWnFHdidEXqvcZbXPL8\"\n",
    "ACCESS_TOKEN_SECRET = \"TTUDGdh6y6T1zzenz3D0ApdIhkNrXj4jIl8a4rC1XnRGk\"\n",
    "\n",
    "def test_twitter_auth():\n",
    "    try:\n",
    "        # Authenticate with OAuth1\n",
    "        auth = tweepy.OAuth1UserHandler(API_KEY, API_SECRET_KEY, ACCESS_TOKEN, ACCESS_TOKEN_SECRET)\n",
    "        api = tweepy.API(auth)\n",
    "        \n",
    "        # Fetch your own user details to test\n",
    "        user = api.verify_credentials()\n",
    "        if user:\n",
    "            print(f\"Authentication successful! Logged in as: {user.screen_name}\")\n",
    "        else:\n",
    "            print(\"Authentication failed: Could not verify credentials.\")\n",
    "    except Exception as e:\n",
    "        print(f\"Error during authentication: {e}\")\n",
    "\n",
    "if __name__ == \"__main__\":\n",
    "    test_twitter_auth()"
   ]
  },
  {
   "cell_type": "code",
   "execution_count": 0,
   "metadata": {
    "application/vnd.databricks.v1+cell": {
     "cellMetadata": {
      "byteLimit": 2048000,
      "rowLimit": 10000
     },
     "inputWidgets": {},
     "nuid": "af07c70a-901a-4563-9252-aff88f72f60c",
     "showTitle": false,
     "tableResultSettingsMap": {},
     "title": ""
    }
   },
   "outputs": [],
   "source": [
    "from tweepy.streaming import Stream\n",
    "from tweepy import OAuth1UserHandler\n",
    "\n",
    "API_KEY = \"BRGl5yFqaeR8U9AX8QJVZUXwP\"\n",
    "API_SECRET_KEY = \"vf3pmNTOrdaKKICdhcvn0JCdT7yzt77Gk0gMjlhm9wYQo24pQK\"\n",
    "ACCESS_TOKEN = \"746272323163070464-2alE70P4LuEIZWnFHdidEXqvcZbXPL8\"\n",
    "ACCESS_TOKEN_SECRET = \"TTUDGdh6y6T1zzenz3D0ApdIhkNrXj4jIl8a4rC1XnRGk\"\n",
    "\n",
    "class MyStream(Stream):\n",
    "    def on_status(self, status):\n",
    "        print(f\"{status.user.screen_name}: {status.text}\")\n",
    "\n",
    "    def on_error(self, status_code):\n",
    "        if status_code == 420:\n",
    "            print(\"Rate limited, disconnecting...\")\n",
    "            return False\n",
    "\n",
    "# Auth handler\n",
    "auth = OAuth1UserHandler(API_KEY, API_SECRET_KEY, ACCESS_TOKEN, ACCESS_TOKEN_SECRET)\n",
    "\n",
    "# Initialize stream with credentials\n",
    "stream = MyStream(API_KEY, API_SECRET_KEY, ACCESS_TOKEN, ACCESS_TOKEN_SECRET)\n",
    "\n",
    "print(\"Starting stream...\")\n",
    "stream.filter(track=['data', 'AI', 'machine learning'], languages=['en'])"
   ]
  },
  {
   "cell_type": "code",
   "execution_count": 0,
   "metadata": {
    "application/vnd.databricks.v1+cell": {
     "cellMetadata": {
      "byteLimit": 2048000,
      "rowLimit": 10000
     },
     "inputWidgets": {},
     "nuid": "389e92dc-f23c-4f31-887c-c93247001ad1",
     "showTitle": false,
     "tableResultSettingsMap": {},
     "title": ""
    }
   },
   "outputs": [],
   "source": [
    "import tweepy\n",
    "print(tweepy.__version__)\n",
    "print(tweepy.__file__)\n"
   ]
  },
  {
   "cell_type": "code",
   "execution_count": 0,
   "metadata": {
    "application/vnd.databricks.v1+cell": {
     "cellMetadata": {},
     "inputWidgets": {},
     "nuid": "027cbb87-1259-4cd7-ac83-52a9bbc9f979",
     "showTitle": false,
     "tableResultSettingsMap": {},
     "title": ""
    }
   },
   "outputs": [],
   "source": []
  }
 ],
 "metadata": {
  "application/vnd.databricks.v1+notebook": {
   "computePreferences": null,
   "dashboards": [],
   "environmentMetadata": {
    "base_environment": "",
    "environment_version": "2"
   },
   "inputWidgetPreferences": null,
   "language": "python",
   "notebookMetadata": {
    "pythonIndentUnit": 4
   },
   "notebookName": "Tweeter_DLT_ETL",
   "widgets": {}
  },
  "language_info": {
   "name": "python"
  }
 },
 "nbformat": 4,
 "nbformat_minor": 0
}
